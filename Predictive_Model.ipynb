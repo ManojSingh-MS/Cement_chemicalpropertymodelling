{
 "cells": [
  {
   "cell_type": "markdown",
   "id": "77653e51",
   "metadata": {},
   "source": [
    "# NAME: Manoj Kumar Singh\n",
    "## Batch: 23 April 2023"
   ]
  },
  {
   "cell_type": "markdown",
   "id": "fef901b9",
   "metadata": {},
   "source": [
    "### After Phase-3: creation of initial dataset:\n",
    "#### I am using dataset \"df_cement.csv\"\n",
    "### After Phase-4: Exploratory Data Analysis:\n",
    "#### Top feature I am going to use as Additive Catalyst (gm)', 'Ash Component (gm)', 'Water Mix (ml)', 'Plasticizer (gm)', 'Formulation Duration (hrs)'.\n",
    "### After Phase-5: Feature Engineering and Predictive Modelling:\n",
    "#### I am going to use as RandomForestRegressor for best R2 score.\n"
   ]
  },
  {
   "cell_type": "code",
   "execution_count": 43,
   "id": "dc399cff",
   "metadata": {},
   "outputs": [],
   "source": [
    "import pandas as pd\n",
    "import numpy as np\n",
    "import matplotlib.pyplot as plt\n",
    "import seaborn as sns\n",
    "import pickle"
   ]
  },
  {
   "cell_type": "code",
   "execution_count": 44,
   "id": "b5dc95c5",
   "metadata": {},
   "outputs": [],
   "source": [
    "cement_data = pd.read_csv('df_cement.csv')"
   ]
  },
  {
   "cell_type": "code",
   "execution_count": 45,
   "id": "3a5fc181",
   "metadata": {
    "scrolled": true
   },
   "outputs": [
    {
     "data": {
      "text/html": [
       "<div>\n",
       "<style scoped>\n",
       "    .dataframe tbody tr th:only-of-type {\n",
       "        vertical-align: middle;\n",
       "    }\n",
       "\n",
       "    .dataframe tbody tr th {\n",
       "        vertical-align: top;\n",
       "    }\n",
       "\n",
       "    .dataframe thead th {\n",
       "        text-align: right;\n",
       "    }\n",
       "</style>\n",
       "<table border=\"1\" class=\"dataframe\">\n",
       "  <thead>\n",
       "    <tr style=\"text-align: right;\">\n",
       "      <th></th>\n",
       "      <th>Material Quantity (gm)</th>\n",
       "      <th>Additive Catalyst (gm)</th>\n",
       "      <th>Ash Component (gm)</th>\n",
       "      <th>Water Mix (ml)</th>\n",
       "      <th>Plasticizer (gm)</th>\n",
       "      <th>Moderate Aggregator</th>\n",
       "      <th>Refined Aggregator</th>\n",
       "      <th>Formulation Duration (hrs)</th>\n",
       "      <th>Compression Strength MPa</th>\n",
       "    </tr>\n",
       "  </thead>\n",
       "  <tbody>\n",
       "    <tr>\n",
       "      <th>0</th>\n",
       "      <td>486.42</td>\n",
       "      <td>0.076266</td>\n",
       "      <td>-1.185002</td>\n",
       "      <td>201.66</td>\n",
       "      <td>0.017638</td>\n",
       "      <td>1151.17</td>\n",
       "      <td>708.50</td>\n",
       "      <td>1.330671</td>\n",
       "      <td>79.89</td>\n",
       "    </tr>\n",
       "    <tr>\n",
       "      <th>1</th>\n",
       "      <td>133.32</td>\n",
       "      <td>0.567247</td>\n",
       "      <td>0.940023</td>\n",
       "      <td>175.99</td>\n",
       "      <td>-0.912828</td>\n",
       "      <td>1090.57</td>\n",
       "      <td>1010.25</td>\n",
       "      <td>-1.517225</td>\n",
       "      <td>59.80</td>\n",
       "    </tr>\n",
       "    <tr>\n",
       "      <th>2</th>\n",
       "      <td>559.97</td>\n",
       "      <td>-1.797172</td>\n",
       "      <td>0.164717</td>\n",
       "      <td>295.23</td>\n",
       "      <td>-0.340220</td>\n",
       "      <td>1024.93</td>\n",
       "      <td>810.69</td>\n",
       "      <td>0.660953</td>\n",
       "      <td>77.86</td>\n",
       "    </tr>\n",
       "    <tr>\n",
       "      <th>3</th>\n",
       "      <td>391.43</td>\n",
       "      <td>1.055950</td>\n",
       "      <td>-0.276775</td>\n",
       "      <td>299.14</td>\n",
       "      <td>0.246552</td>\n",
       "      <td>1134.88</td>\n",
       "      <td>881.34</td>\n",
       "      <td>0.453954</td>\n",
       "      <td>71.74</td>\n",
       "    </tr>\n",
       "    <tr>\n",
       "      <th>4</th>\n",
       "      <td>394.78</td>\n",
       "      <td>1.063836</td>\n",
       "      <td>1.023182</td>\n",
       "      <td>235.54</td>\n",
       "      <td>0.091225</td>\n",
       "      <td>1098.24</td>\n",
       "      <td>781.01</td>\n",
       "      <td>0.857185</td>\n",
       "      <td>76.07</td>\n",
       "    </tr>\n",
       "  </tbody>\n",
       "</table>\n",
       "</div>"
      ],
      "text/plain": [
       "   Material Quantity (gm)  Additive Catalyst (gm)  Ash Component (gm)  \\\n",
       "0                  486.42                0.076266           -1.185002   \n",
       "1                  133.32                0.567247            0.940023   \n",
       "2                  559.97               -1.797172            0.164717   \n",
       "3                  391.43                1.055950           -0.276775   \n",
       "4                  394.78                1.063836            1.023182   \n",
       "\n",
       "   Water Mix (ml)  Plasticizer (gm)  Moderate Aggregator  Refined Aggregator  \\\n",
       "0          201.66          0.017638              1151.17              708.50   \n",
       "1          175.99         -0.912828              1090.57             1010.25   \n",
       "2          295.23         -0.340220              1024.93              810.69   \n",
       "3          299.14          0.246552              1134.88              881.34   \n",
       "4          235.54          0.091225              1098.24              781.01   \n",
       "\n",
       "   Formulation Duration (hrs)  Compression Strength MPa  \n",
       "0                    1.330671                     79.89  \n",
       "1                   -1.517225                     59.80  \n",
       "2                    0.660953                     77.86  \n",
       "3                    0.453954                     71.74  \n",
       "4                    0.857185                     76.07  "
      ]
     },
     "execution_count": 45,
     "metadata": {},
     "output_type": "execute_result"
    }
   ],
   "source": [
    "cement_data.head()"
   ]
  },
  {
   "cell_type": "code",
   "execution_count": 46,
   "id": "ef418bf7",
   "metadata": {},
   "outputs": [
    {
     "name": "stdout",
     "output_type": "stream",
     "text": [
      "<class 'pandas.core.frame.DataFrame'>\n",
      "RangeIndex: 6030 entries, 0 to 6029\n",
      "Data columns (total 9 columns):\n",
      " #   Column                      Non-Null Count  Dtype  \n",
      "---  ------                      --------------  -----  \n",
      " 0   Material Quantity (gm)      6030 non-null   float64\n",
      " 1   Additive Catalyst (gm)      6030 non-null   float64\n",
      " 2   Ash Component (gm)          6030 non-null   float64\n",
      " 3   Water Mix (ml)              6030 non-null   float64\n",
      " 4   Plasticizer (gm)            6030 non-null   float64\n",
      " 5   Moderate Aggregator         6030 non-null   float64\n",
      " 6   Refined Aggregator          6030 non-null   float64\n",
      " 7   Formulation Duration (hrs)  6030 non-null   float64\n",
      " 8   Compression Strength MPa    6030 non-null   float64\n",
      "dtypes: float64(9)\n",
      "memory usage: 424.1 KB\n"
     ]
    }
   ],
   "source": [
    "cement_data.info()"
   ]
  },
  {
   "cell_type": "code",
   "execution_count": 47,
   "id": "99c396c0",
   "metadata": {},
   "outputs": [
    {
     "data": {
      "text/plain": [
       "Material Quantity (gm)        0\n",
       "Additive Catalyst (gm)        0\n",
       "Ash Component (gm)            0\n",
       "Water Mix (ml)                0\n",
       "Plasticizer (gm)              0\n",
       "Moderate Aggregator           0\n",
       "Refined Aggregator            0\n",
       "Formulation Duration (hrs)    0\n",
       "Compression Strength MPa      0\n",
       "dtype: int64"
      ]
     },
     "execution_count": 47,
     "metadata": {},
     "output_type": "execute_result"
    }
   ],
   "source": [
    "cement_data.isnull().sum()"
   ]
  },
  {
   "cell_type": "code",
   "execution_count": 48,
   "id": "0d24821b",
   "metadata": {},
   "outputs": [],
   "source": [
    "from sklearn.model_selection import train_test_split"
   ]
  },
  {
   "cell_type": "markdown",
   "id": "93069aca",
   "metadata": {},
   "source": [
    "['Additive Catalyst (gm)', 'Ash Component (gm)', 'Water Mix (ml)',\n",
    "       'Plasticizer (gm)', 'Formulation Duration (hrs)'],"
   ]
  },
  {
   "cell_type": "code",
   "execution_count": 49,
   "id": "91bfcc05",
   "metadata": {},
   "outputs": [],
   "source": [
    "columns_to_select = ['Additive Catalyst (gm)', 'Ash Component (gm)', 'Water Mix (ml)',\n",
    "                     'Plasticizer (gm)','Formulation Duration (hrs)','Compression Strength MPa']\n",
    "df = cement_data[columns_to_select]"
   ]
  },
  {
   "cell_type": "code",
   "execution_count": 50,
   "id": "a71a28d0",
   "metadata": {
    "scrolled": true
   },
   "outputs": [
    {
     "data": {
      "text/html": [
       "<div>\n",
       "<style scoped>\n",
       "    .dataframe tbody tr th:only-of-type {\n",
       "        vertical-align: middle;\n",
       "    }\n",
       "\n",
       "    .dataframe tbody tr th {\n",
       "        vertical-align: top;\n",
       "    }\n",
       "\n",
       "    .dataframe thead th {\n",
       "        text-align: right;\n",
       "    }\n",
       "</style>\n",
       "<table border=\"1\" class=\"dataframe\">\n",
       "  <thead>\n",
       "    <tr style=\"text-align: right;\">\n",
       "      <th></th>\n",
       "      <th>Additive Catalyst (gm)</th>\n",
       "      <th>Ash Component (gm)</th>\n",
       "      <th>Water Mix (ml)</th>\n",
       "      <th>Plasticizer (gm)</th>\n",
       "      <th>Formulation Duration (hrs)</th>\n",
       "      <th>Compression Strength MPa</th>\n",
       "    </tr>\n",
       "  </thead>\n",
       "  <tbody>\n",
       "    <tr>\n",
       "      <th>0</th>\n",
       "      <td>0.076266</td>\n",
       "      <td>-1.185002</td>\n",
       "      <td>201.66</td>\n",
       "      <td>0.017638</td>\n",
       "      <td>1.330671</td>\n",
       "      <td>79.89</td>\n",
       "    </tr>\n",
       "    <tr>\n",
       "      <th>1</th>\n",
       "      <td>0.567247</td>\n",
       "      <td>0.940023</td>\n",
       "      <td>175.99</td>\n",
       "      <td>-0.912828</td>\n",
       "      <td>-1.517225</td>\n",
       "      <td>59.80</td>\n",
       "    </tr>\n",
       "    <tr>\n",
       "      <th>2</th>\n",
       "      <td>-1.797172</td>\n",
       "      <td>0.164717</td>\n",
       "      <td>295.23</td>\n",
       "      <td>-0.340220</td>\n",
       "      <td>0.660953</td>\n",
       "      <td>77.86</td>\n",
       "    </tr>\n",
       "    <tr>\n",
       "      <th>3</th>\n",
       "      <td>1.055950</td>\n",
       "      <td>-0.276775</td>\n",
       "      <td>299.14</td>\n",
       "      <td>0.246552</td>\n",
       "      <td>0.453954</td>\n",
       "      <td>71.74</td>\n",
       "    </tr>\n",
       "    <tr>\n",
       "      <th>4</th>\n",
       "      <td>1.063836</td>\n",
       "      <td>1.023182</td>\n",
       "      <td>235.54</td>\n",
       "      <td>0.091225</td>\n",
       "      <td>0.857185</td>\n",
       "      <td>76.07</td>\n",
       "    </tr>\n",
       "  </tbody>\n",
       "</table>\n",
       "</div>"
      ],
      "text/plain": [
       "   Additive Catalyst (gm)  Ash Component (gm)  Water Mix (ml)  \\\n",
       "0                0.076266           -1.185002          201.66   \n",
       "1                0.567247            0.940023          175.99   \n",
       "2               -1.797172            0.164717          295.23   \n",
       "3                1.055950           -0.276775          299.14   \n",
       "4                1.063836            1.023182          235.54   \n",
       "\n",
       "   Plasticizer (gm)  Formulation Duration (hrs)  Compression Strength MPa  \n",
       "0          0.017638                    1.330671                     79.89  \n",
       "1         -0.912828                   -1.517225                     59.80  \n",
       "2         -0.340220                    0.660953                     77.86  \n",
       "3          0.246552                    0.453954                     71.74  \n",
       "4          0.091225                    0.857185                     76.07  "
      ]
     },
     "execution_count": 50,
     "metadata": {},
     "output_type": "execute_result"
    }
   ],
   "source": [
    "df.head()"
   ]
  },
  {
   "cell_type": "code",
   "execution_count": 51,
   "id": "d6d881a2",
   "metadata": {},
   "outputs": [],
   "source": [
    "X = df.iloc[:,:-1]"
   ]
  },
  {
   "cell_type": "code",
   "execution_count": 52,
   "id": "e712194a",
   "metadata": {},
   "outputs": [],
   "source": [
    "y = df.iloc[:,-1]"
   ]
  },
  {
   "cell_type": "code",
   "execution_count": 53,
   "id": "033fd711",
   "metadata": {},
   "outputs": [
    {
     "data": {
      "text/plain": [
       "(6030, 5)"
      ]
     },
     "execution_count": 53,
     "metadata": {},
     "output_type": "execute_result"
    }
   ],
   "source": [
    "X.shape"
   ]
  },
  {
   "cell_type": "code",
   "execution_count": 54,
   "id": "cff51b90",
   "metadata": {},
   "outputs": [
    {
     "data": {
      "text/plain": [
       "0       79.89\n",
       "1       59.80\n",
       "2       77.86\n",
       "3       71.74\n",
       "4       76.07\n",
       "        ...  \n",
       "6025    50.61\n",
       "6026    54.24\n",
       "6027    56.57\n",
       "6028    58.21\n",
       "6029    58.96\n",
       "Name: Compression Strength MPa, Length: 6030, dtype: float64"
      ]
     },
     "execution_count": 54,
     "metadata": {},
     "output_type": "execute_result"
    }
   ],
   "source": [
    "y"
   ]
  },
  {
   "cell_type": "code",
   "execution_count": 55,
   "id": "a089f238",
   "metadata": {},
   "outputs": [],
   "source": [
    "X_train, X_test, y_train, y_test = train_test_split(X, y, test_size=0.2, random_state=42)"
   ]
  },
  {
   "cell_type": "code",
   "execution_count": 56,
   "id": "7d1b2ce3",
   "metadata": {},
   "outputs": [
    {
     "data": {
      "text/plain": [
       "(4824, 5)"
      ]
     },
     "execution_count": 56,
     "metadata": {},
     "output_type": "execute_result"
    }
   ],
   "source": [
    "X_train.shape"
   ]
  },
  {
   "cell_type": "code",
   "execution_count": 57,
   "id": "2de673e3",
   "metadata": {},
   "outputs": [
    {
     "data": {
      "text/plain": [
       "(1206, 5)"
      ]
     },
     "execution_count": 57,
     "metadata": {},
     "output_type": "execute_result"
    }
   ],
   "source": [
    "X_test.shape"
   ]
  },
  {
   "cell_type": "code",
   "execution_count": 58,
   "id": "cb012c0d",
   "metadata": {},
   "outputs": [],
   "source": [
    "from sklearn.preprocessing import StandardScaler\n",
    "#from sklearn.preprocessing import MinMaxScaler\n"
   ]
  },
  {
   "cell_type": "code",
   "execution_count": 59,
   "id": "71aa87c0",
   "metadata": {},
   "outputs": [],
   "source": [
    "#scaler = MinMaxScaler()\n",
    "scaler = StandardScaler()"
   ]
  },
  {
   "cell_type": "code",
   "execution_count": 60,
   "id": "0eae19b8",
   "metadata": {
    "scrolled": true
   },
   "outputs": [
    {
     "data": {
      "text/html": [
       "<div>\n",
       "<style scoped>\n",
       "    .dataframe tbody tr th:only-of-type {\n",
       "        vertical-align: middle;\n",
       "    }\n",
       "\n",
       "    .dataframe tbody tr th {\n",
       "        vertical-align: top;\n",
       "    }\n",
       "\n",
       "    .dataframe thead th {\n",
       "        text-align: right;\n",
       "    }\n",
       "</style>\n",
       "<table border=\"1\" class=\"dataframe\">\n",
       "  <thead>\n",
       "    <tr style=\"text-align: right;\">\n",
       "      <th></th>\n",
       "      <th>Additive Catalyst (gm)</th>\n",
       "      <th>Ash Component (gm)</th>\n",
       "      <th>Water Mix (ml)</th>\n",
       "      <th>Plasticizer (gm)</th>\n",
       "      <th>Formulation Duration (hrs)</th>\n",
       "      <th>Compression Strength MPa</th>\n",
       "    </tr>\n",
       "  </thead>\n",
       "  <tbody>\n",
       "    <tr>\n",
       "      <th>0</th>\n",
       "      <td>0.076266</td>\n",
       "      <td>-1.185002</td>\n",
       "      <td>201.66</td>\n",
       "      <td>0.017638</td>\n",
       "      <td>1.330671</td>\n",
       "      <td>79.89</td>\n",
       "    </tr>\n",
       "    <tr>\n",
       "      <th>1</th>\n",
       "      <td>0.567247</td>\n",
       "      <td>0.940023</td>\n",
       "      <td>175.99</td>\n",
       "      <td>-0.912828</td>\n",
       "      <td>-1.517225</td>\n",
       "      <td>59.80</td>\n",
       "    </tr>\n",
       "    <tr>\n",
       "      <th>2</th>\n",
       "      <td>-1.797172</td>\n",
       "      <td>0.164717</td>\n",
       "      <td>295.23</td>\n",
       "      <td>-0.340220</td>\n",
       "      <td>0.660953</td>\n",
       "      <td>77.86</td>\n",
       "    </tr>\n",
       "    <tr>\n",
       "      <th>3</th>\n",
       "      <td>1.055950</td>\n",
       "      <td>-0.276775</td>\n",
       "      <td>299.14</td>\n",
       "      <td>0.246552</td>\n",
       "      <td>0.453954</td>\n",
       "      <td>71.74</td>\n",
       "    </tr>\n",
       "    <tr>\n",
       "      <th>4</th>\n",
       "      <td>1.063836</td>\n",
       "      <td>1.023182</td>\n",
       "      <td>235.54</td>\n",
       "      <td>0.091225</td>\n",
       "      <td>0.857185</td>\n",
       "      <td>76.07</td>\n",
       "    </tr>\n",
       "  </tbody>\n",
       "</table>\n",
       "</div>"
      ],
      "text/plain": [
       "   Additive Catalyst (gm)  Ash Component (gm)  Water Mix (ml)  \\\n",
       "0                0.076266           -1.185002          201.66   \n",
       "1                0.567247            0.940023          175.99   \n",
       "2               -1.797172            0.164717          295.23   \n",
       "3                1.055950           -0.276775          299.14   \n",
       "4                1.063836            1.023182          235.54   \n",
       "\n",
       "   Plasticizer (gm)  Formulation Duration (hrs)  Compression Strength MPa  \n",
       "0          0.017638                    1.330671                     79.89  \n",
       "1         -0.912828                   -1.517225                     59.80  \n",
       "2         -0.340220                    0.660953                     77.86  \n",
       "3          0.246552                    0.453954                     71.74  \n",
       "4          0.091225                    0.857185                     76.07  "
      ]
     },
     "execution_count": 60,
     "metadata": {},
     "output_type": "execute_result"
    }
   ],
   "source": [
    "df.head(5)"
   ]
  },
  {
   "cell_type": "code",
   "execution_count": 61,
   "id": "9a345eb6",
   "metadata": {},
   "outputs": [],
   "source": [
    "X_train = scaler.fit_transform(X_train)"
   ]
  },
  {
   "cell_type": "code",
   "execution_count": 62,
   "id": "c7bd7d50",
   "metadata": {
    "scrolled": true
   },
   "outputs": [],
   "source": [
    "X_test = scaler.transform(X_test)"
   ]
  },
  {
   "cell_type": "code",
   "execution_count": 63,
   "id": "a88e4532",
   "metadata": {},
   "outputs": [],
   "source": [
    "pickle.dump(scaler, open('scaling.pkl', 'wb'))"
   ]
  },
  {
   "cell_type": "code",
   "execution_count": 64,
   "id": "6ee0ffc2",
   "metadata": {},
   "outputs": [
    {
     "data": {
      "text/plain": [
       "array([[ 0.23501371, -1.87085549,  0.57652507, -1.84921849, -1.23975785],\n",
       "       [ 0.03051365, -1.87085549,  0.57652507, -1.84921849, -1.74417235],\n",
       "       [ 1.1705148 , -0.95930818,  0.29071851,  1.30274722,  0.12969426],\n",
       "       ...,\n",
       "       [-1.90693716, -1.87085549, -1.23583045,  1.31077497, -1.64674045],\n",
       "       [ 0.89885482, -0.888016  , -1.03213007, -0.1634752 , -0.12653788],\n",
       "       [-1.90693716, -1.87085549,  0.2387099 , -1.84921849, -0.43951744]])"
      ]
     },
     "execution_count": 64,
     "metadata": {},
     "output_type": "execute_result"
    }
   ],
   "source": [
    "X_train"
   ]
  },
  {
   "cell_type": "code",
   "execution_count": 65,
   "id": "d44a21a2",
   "metadata": {
    "scrolled": true
   },
   "outputs": [
    {
     "data": {
      "text/plain": [
       "array([[-0.16093501, -0.05697274,  0.18212646, -1.38494222,  1.43485165],\n",
       "       [-0.73051868, -0.24772375, -0.76365971,  1.15369501,  1.48151011],\n",
       "       [-0.58079471, -1.87085549,  1.29621826, -1.84921849, -0.43951744],\n",
       "       ...,\n",
       "       [-1.24145128,  0.53754382,  1.46645014,  0.7167448 ,  1.37371012],\n",
       "       [-0.16379044, -0.76445503,  0.5712279 , -0.45563035,  0.81743192],\n",
       "       [-1.90693716, -1.87085549,  0.38558606, -1.84921849, -0.43951744]])"
      ]
     },
     "execution_count": 65,
     "metadata": {},
     "output_type": "execute_result"
    }
   ],
   "source": [
    "X_test"
   ]
  },
  {
   "cell_type": "markdown",
   "id": "7b430d4a",
   "metadata": {},
   "source": [
    "#### RandomForest is best model selected from 'Feature engineering and model selection' with param 'n_estimators=150'."
   ]
  },
  {
   "cell_type": "code",
   "execution_count": 66,
   "id": "9ff8072f",
   "metadata": {},
   "outputs": [
    {
     "name": "stdout",
     "output_type": "stream",
     "text": [
      "Best Parameters: {'max_depth': None, 'min_samples_leaf': 1, 'min_samples_split': 2, 'n_estimators': 150}\n",
      "Mean Squared Error (MSE): 284.75\n",
      "R2 Score: 0.92\n"
     ]
    }
   ],
   "source": [
    "from sklearn.ensemble import RandomForestRegressor\n",
    "from sklearn.model_selection import GridSearchCV\n",
    "from sklearn.metrics import mean_squared_error, r2_score\n",
    "from sklearn.datasets import make_regression  # For generating sample data (replace with your dataset)\n",
    "\n",
    "# Generating sample data (replace this with your actual data)\n",
    "X, y = make_regression(n_samples=1000, n_features=5, noise=0.1, random_state=42)\n",
    "\n",
    "# Splitting the data into training and testing sets (replace with your data split)\n",
    "from sklearn.model_selection import train_test_split\n",
    "X_train, X_test, y_train, y_test = train_test_split(X, y, test_size=0.2, random_state=42)\n",
    "\n",
    "# Define the parameter grid to search\n",
    "param_grid = {\n",
    "    'n_estimators': [150],  # Number of trees in the forest\n",
    "    'max_depth': [None],  # Maximum depth of the trees\n",
    "    'min_samples_split': [2],  # Minimum number of samples required to split a node\n",
    "    'min_samples_leaf': [1]  # Minimum number of samples required at each leaf node\n",
    "}\n",
    "\n",
    "# Initialize Random Forest Regressor\n",
    "random_forest = RandomForestRegressor(random_state=42)\n",
    "\n",
    "# Initialize GridSearchCV\n",
    "grid_search = GridSearchCV(random_forest, param_grid, cv=5, scoring='neg_mean_squared_error')\n",
    "\n",
    "# Fit the grid search on the training data\n",
    "grid_search.fit(X_train, y_train)\n",
    "\n",
    "# Get the best parameters and the best estimator\n",
    "best_params = grid_search.best_params_\n",
    "best_estimator = grid_search.best_estimator_\n",
    "\n",
    "# Make predictions on the test set using the best estimator\n",
    "y_pred = best_estimator.predict(X_test)\n",
    "\n",
    "# Evaluate the model's performance\n",
    "mse = mean_squared_error(y_test, y_pred)\n",
    "r2score = r2_score(y_test, y_pred)\n",
    "\n",
    "print(\"Best Parameters:\", best_params)\n",
    "print(f'Mean Squared Error (MSE): {mse:.2f}')\n",
    "print(f'R2 Score: {r2score:.2f}')"
   ]
  },
  {
   "cell_type": "code",
   "execution_count": 67,
   "id": "0e6d6506",
   "metadata": {},
   "outputs": [
    {
     "name": "stdout",
     "output_type": "stream",
     "text": [
      "Mean Squared Error (MSE): 284.75\n",
      "R2 Score: 0.922886\n"
     ]
    }
   ],
   "source": [
    "from sklearn.ensemble import RandomForestRegressor\n",
    "from sklearn.metrics import mean_squared_error, r2_score\n",
    "\n",
    "# Create a new RandomForestRegressor instance with the best parameters\n",
    "RFR_model = RandomForestRegressor(max_depth=None, min_samples_leaf=1, min_samples_split=2, n_estimators=150, random_state=42)\n",
    "\n",
    "# Train the model on the training data\n",
    "RFR_model.fit(X_train, y_train)\n",
    "\n",
    "# Make predictions on the test set\n",
    "y_pred = RFR_model.predict(X_test)\n",
    "\n",
    "# Evaluate the model's performance\n",
    "mse = mean_squared_error(y_test, y_pred)\n",
    "r2score = r2_score(y_test, y_pred)\n",
    "\n",
    "print(f\"Mean Squared Error (MSE): {mse:.2f}\")\n",
    "print(f\"R2 Score: {r2score:.6f}\")\n"
   ]
  },
  {
   "cell_type": "code",
   "execution_count": 68,
   "id": "f63f0c94",
   "metadata": {},
   "outputs": [],
   "source": [
    "reg_predict = RFR_model.predict(X_test)"
   ]
  },
  {
   "cell_type": "code",
   "execution_count": 69,
   "id": "58784402",
   "metadata": {},
   "outputs": [
    {
     "data": {
      "text/plain": [
       "array([-4.77068341e+01, -6.53228426e+01,  7.24049505e+01, -1.07470382e+01,\n",
       "        7.56444213e+01,  1.52162152e+01, -1.80161507e+01, -5.98277141e+01,\n",
       "        5.12160255e+01, -9.79600818e+01,  4.72770069e+01, -1.22257639e+02,\n",
       "        7.84974434e+01,  2.94230826e+01,  1.25298642e+01, -6.86350702e+00,\n",
       "        2.04827535e+01,  9.25023705e+00,  6.63036793e+01, -2.60007991e+01,\n",
       "        7.32268241e+01, -1.01836589e+01, -2.60353777e+01,  1.45389914e+01,\n",
       "       -8.30160825e+01,  5.96012277e+01,  2.67077525e+01, -3.51909154e+01,\n",
       "        8.68338105e+01,  2.91282818e+01,  4.41560934e+01,  1.77624732e+00,\n",
       "       -1.09397650e+01,  2.95153873e+01, -3.54862286e+01,  4.14981600e+01,\n",
       "       -9.39217975e+00, -2.64305253e+00, -3.76810488e+01, -5.13935214e+01,\n",
       "        3.68561100e+01, -5.58712759e+01,  5.99878664e+01, -1.96807487e+01,\n",
       "        7.67487497e+01,  7.39029000e+01,  3.43063098e+01, -5.53798032e+01,\n",
       "       -7.68500339e+01, -5.05914593e+01,  7.10945280e+01,  6.66113531e+01,\n",
       "        1.20215755e+01, -5.03244832e+01,  2.79401140e+01, -6.99753023e+01,\n",
       "        1.01012650e+02, -7.72591222e+00, -9.03196594e+01, -2.15825142e+01,\n",
       "       -9.09003367e+01, -9.77184611e+01,  6.94923981e+01, -6.19240046e-01,\n",
       "        1.46680601e+01, -5.77117272e+01,  5.40607898e+01, -5.36793326e+01,\n",
       "       -3.52044824e+01, -7.59907818e+01,  3.11452859e+01,  2.62481055e+01,\n",
       "       -7.24242087e+01,  6.02323310e+01,  7.36610456e+01,  9.70507118e+01,\n",
       "       -6.11819561e+01,  1.06083993e+02, -7.72168386e+01, -2.31811146e+01,\n",
       "       -6.06802142e+00, -2.99568843e+01,  2.74683177e+01, -1.93633100e+01,\n",
       "        1.61363861e+01, -1.13905039e+02,  4.56279077e+00,  5.99754511e+01,\n",
       "       -7.01074756e+01, -3.98538947e+00, -1.82754828e+01,  4.99173308e+01,\n",
       "       -1.17428412e-01, -5.88050819e+01,  1.28439413e+02,  3.45765810e+01,\n",
       "        2.09882745e+01,  8.17974507e+01, -4.07953260e+01, -1.79165172e+00,\n",
       "        1.16683687e+01,  3.50600836e+01, -2.58648663e+01,  5.18574938e+01,\n",
       "       -2.34258035e+01, -7.70084483e+01,  6.33724107e+01,  7.82205695e+01,\n",
       "       -3.92634095e+01, -1.70841363e+01,  9.32294781e+01,  5.62424699e+01,\n",
       "       -4.69117405e+01, -4.16374316e+01, -1.09211898e+01,  7.10379902e+01,\n",
       "        8.28623430e+00,  2.41397866e+00,  1.92882663e+01, -3.16344660e+01,\n",
       "        2.81830536e+01, -8.79340720e+01,  1.80002277e+01,  5.59332158e+01,\n",
       "       -4.51386908e+01,  4.82707445e+00, -3.77857833e+01,  1.04574108e+02,\n",
       "       -1.03899370e+01, -1.49920009e+01, -6.81045097e+01, -4.92051649e+01,\n",
       "       -1.00606016e+00, -7.41693039e-01, -3.59349387e+01,  1.63589657e+01,\n",
       "       -5.14051869e+01, -3.67070555e+01,  4.22130226e+01, -7.82584612e+01,\n",
       "       -7.01749805e+01,  5.02322397e+01,  6.16369445e+01, -3.00550469e+01,\n",
       "        1.89979892e+01, -6.56251627e+01, -2.54173617e+01, -8.36826430e+01,\n",
       "       -4.13768693e+01, -2.76411456e+01, -3.18302178e+00,  4.66274096e+01,\n",
       "        5.32749482e+01,  3.96349904e+01, -5.34558231e+01,  1.38319412e+01,\n",
       "        7.94550658e+01, -1.07620813e+01,  8.74079113e+01,  4.25434100e+00,\n",
       "        2.75896758e+01, -3.98609364e+00, -2.32238369e+01,  3.68112355e+01,\n",
       "       -4.27711385e+01,  4.25033606e+01,  6.11477105e+01,  1.91815465e+01,\n",
       "       -5.13596086e+01, -5.44742423e+00,  7.30310615e+01,  1.03988556e+01,\n",
       "       -8.97751003e+01, -5.16277393e+01,  3.46627106e+01, -3.01035573e+01,\n",
       "        7.39987350e+01,  5.29377860e+01, -1.01942660e+01,  6.01568595e+01,\n",
       "       -1.15812715e+02,  4.21253159e+01, -1.46203032e+01,  1.83428767e+01,\n",
       "       -9.23432742e+01, -7.38980943e+01,  3.37750811e+01,  1.76477828e+01,\n",
       "       -5.21658426e+00, -2.97116215e+01, -7.18074311e+01, -6.98521821e+01,\n",
       "       -1.06081411e+02, -4.98672860e+01,  6.42778529e+01, -2.52458584e+00,\n",
       "       -1.99981901e+00,  2.42185822e+01, -4.72405006e+01,  3.09743692e+01])"
      ]
     },
     "execution_count": 69,
     "metadata": {},
     "output_type": "execute_result"
    }
   ],
   "source": [
    "reg_predict"
   ]
  },
  {
   "cell_type": "code",
   "execution_count": 70,
   "id": "0b397d0c",
   "metadata": {
    "scrolled": true
   },
   "outputs": [
    {
     "data": {
      "text/plain": [
       "<matplotlib.collections.PathCollection at 0x2cc4ce6d1b0>"
      ]
     },
     "execution_count": 70,
     "metadata": {},
     "output_type": "execute_result"
    },
    {
     "data": {
      "image/png": "[encoded data removed]",
      "text/plain": [
       "<Figure size 640x480 with 1 Axes>"
      ]
     },
     "metadata": {},
     "output_type": "display_data"
    }
   ],
   "source": [
    "plt.scatter(y_test, reg_predict)"
   ]
  },
  {
   "cell_type": "code",
   "execution_count": 71,
   "id": "a83b1618",
   "metadata": {},
   "outputs": [],
   "source": [
    "#Graph indicates in a linearity that shows my Model is performing well."
   ]
  },
  {
   "cell_type": "code",
   "execution_count": 72,
   "id": "a49934ce",
   "metadata": {},
   "outputs": [],
   "source": [
    "residuals = y_test - reg_predict"
   ]
  },
  {
   "cell_type": "code",
   "execution_count": 73,
   "id": "4abf7840",
   "metadata": {},
   "outputs": [
    {
     "data": {
      "text/plain": [
       "array([-6.98539446e+00,  9.61662731e-01, -1.95254494e+01, -5.36439524e+00,\n",
       "       -1.29669461e+01,  1.27176552e+01, -8.41561000e+00,  5.29729289e+00,\n",
       "        6.41857808e+00, -3.34828210e+01,  5.91778147e+00, -1.48515894e+01,\n",
       "        4.52319654e+01, -1.35848323e+01,  5.41845987e+00,  1.15688475e-02,\n",
       "        6.13862156e+00, -2.17377384e+01,  7.54972673e+00, -8.92724820e+00,\n",
       "        2.01317663e+01,  5.02679480e+00,  9.32588379e+00, -1.01075230e+01,\n",
       "       -2.35660914e+01,  1.39022055e+01,  2.82629824e+01,  1.13579410e+01,\n",
       "        8.98168665e+00,  2.19935979e+01, -2.32102303e+00,  6.32018268e+00,\n",
       "        3.30776698e+00, -1.93777205e+00, -2.10439982e+01,  2.86887838e+00,\n",
       "        2.78173745e+00,  1.89307458e+00, -2.11312019e+01, -3.13103601e+01,\n",
       "       -1.73037132e+01, -9.04671209e+00,  7.17384983e+00, -2.41539559e+01,\n",
       "        7.35940271e+00,  4.22954503e+01,  1.56393257e+01,  8.99162220e+00,\n",
       "       -2.01178009e+01, -9.94078995e-01,  6.57707384e+01,  1.20243998e+01,\n",
       "       -9.76003764e+00,  1.67680643e+00,  3.49796679e+00, -2.09860354e+01,\n",
       "       -1.96647117e+01,  1.10405410e+00, -8.22714240e+00,  1.32705379e+01,\n",
       "       -1.83823241e+01,  5.89232931e+00,  3.23263966e+00,  1.00137814e+01,\n",
       "       -7.11892171e+00,  3.02131037e+01,  1.94507194e+01, -1.70561523e+01,\n",
       "        1.24476520e+01, -3.62691672e+00,  1.87397342e+00,  1.23429120e+00,\n",
       "       -4.09039017e+00,  8.12337174e+00,  2.65894530e+01, -9.26680335e+00,\n",
       "       -2.08919227e+01,  5.14309164e+01, -1.28274180e+01, -1.53054443e+01,\n",
       "        7.50658274e+00,  4.43756167e+01,  1.80697943e+01, -1.28041756e+01,\n",
       "       -8.45959089e+00, -2.71293640e+01, -1.30337498e+01,  7.38602000e+00,\n",
       "        1.17653270e+01,  9.42846023e+00, -6.76090205e+01,  9.50421038e+00,\n",
       "       -2.06183893e+01, -9.15810759e+00,  1.19190672e+01, -4.12822447e+00,\n",
       "        1.13634904e+00,  5.53726846e+01, -1.86333981e+00,  5.78204759e+00,\n",
       "        1.86962858e+00,  6.98811600e+00, -1.25806009e+01, -7.20240278e+00,\n",
       "       -1.44650225e+01, -7.34932921e+00, -1.43341110e+01,  8.12789176e+00,\n",
       "        1.33255944e+01,  2.41898634e+01,  8.09269417e+00,  6.63156725e-01,\n",
       "        4.96237516e+00, -6.10997017e+00, -1.72880535e+00, -1.48436488e+01,\n",
       "        1.76858682e+00,  1.61683879e+00, -2.90361628e+00, -3.70959637e+00,\n",
       "       -1.22891013e+01, -1.76162890e+00,  2.90807891e+01,  1.43255332e+01,\n",
       "       -2.45812216e+00,  1.20378550e+01, -6.18743239e+00,  4.02261261e+00,\n",
       "       -2.54932716e+00, -1.08156688e+01, -1.57002688e+01, -1.68742115e+01,\n",
       "       -3.44012382e+01,  4.25030757e+00,  1.94566160e+00, -7.27493171e+00,\n",
       "       -8.38730581e+00,  3.13052307e+01, -7.02209556e+00, -8.87075433e+00,\n",
       "       -1.66231454e+00, -8.82242828e+00, -1.47539875e+01, -7.40996427e-01,\n",
       "        5.30873851e+01, -8.27389496e+00,  9.48591433e+00,  3.91079954e+00,\n",
       "        9.82063299e+00,  2.55464058e+01, -1.82046788e+01, -2.67689397e+00,\n",
       "       -6.17129776e+00, -1.08619185e+01,  2.13107038e+00,  6.09202995e+00,\n",
       "       -9.52988628e+00,  2.78128696e+00, -1.61658308e+01,  1.10671812e+01,\n",
       "        4.54821837e+00, -1.17959649e+00, -8.96270744e+00,  2.57111513e+01,\n",
       "        4.75081145e+00,  7.34042293e+00,  1.17638827e+01,  2.24500889e+01,\n",
       "       -1.72951338e+01,  1.98892825e+01, -1.57190254e+00, -9.13721965e+00,\n",
       "        1.15750589e+01, -8.17391228e+00,  5.36467480e+00,  4.15942119e+00,\n",
       "        1.02729294e+01,  5.47944444e+00, -1.97622909e+01,  1.14253496e+01,\n",
       "       -2.41669064e+01, -7.06948517e+00, -6.37659162e+00, -1.12086077e+01,\n",
       "       -3.62795547e+00,  4.60325359e+00, -1.85070182e+01,  3.28145542e+01,\n",
       "       -1.77117476e+00,  4.07403256e+00, -7.08533795e+00, -1.30202670e+01,\n",
       "        1.88641727e+00, -5.29973512e+00,  6.34236578e+00,  2.29765066e+00,\n",
       "       -3.14622520e+00,  1.24278518e+01, -2.78000661e+01,  2.55935300e+01])"
      ]
     },
     "execution_count": 73,
     "metadata": {},
     "output_type": "execute_result"
    }
   ],
   "source": [
    "residuals"
   ]
  },
  {
   "cell_type": "code",
   "execution_count": 74,
   "id": "321c66eb",
   "metadata": {},
   "outputs": [
    {
     "data": {
      "text/plain": [
       "<seaborn.axisgrid.FacetGrid at 0x2cc4dfcf640>"
      ]
     },
     "execution_count": 74,
     "metadata": {},
     "output_type": "execute_result"
    },
    {
     "data": {
      "image/png": "[encoded data removed]",
      "text/plain": [
       "<Figure size 500x500 with 1 Axes>"
      ]
     },
     "metadata": {},
     "output_type": "display_data"
    }
   ],
   "source": [
    "# Residuals plot\n",
    "\n",
    "sns.displot(residuals, kind='kde')"
   ]
  },
  {
   "cell_type": "code",
   "execution_count": 75,
   "id": "76180019",
   "metadata": {},
   "outputs": [],
   "source": [
    "# Its a normal distribution of residuals that model is performing well."
   ]
  },
  {
   "cell_type": "code",
   "execution_count": 76,
   "id": "351eed38",
   "metadata": {},
   "outputs": [
    {
     "data": {
      "text/plain": [
       "<matplotlib.collections.PathCollection at 0x2cc4e07acb0>"
      ]
     },
     "execution_count": 76,
     "metadata": {},
     "output_type": "execute_result"
    },
    {
     "data": {
      "image/png": "[encoded data removed]",
      "text/plain": [
       "<Figure size 640x480 with 1 Axes>"
      ]
     },
     "metadata": {},
     "output_type": "display_data"
    }
   ],
   "source": [
    "# scatter plot with respect to prediction and residuals\n",
    "\n",
    "plt.scatter(reg_predict, residuals)"
   ]
  },
  {
   "cell_type": "code",
   "execution_count": 77,
   "id": "f90f8e8e",
   "metadata": {},
   "outputs": [],
   "source": [
    "# It is uniformly distributed that model is performing well."
   ]
  },
  {
   "cell_type": "code",
   "execution_count": 78,
   "id": "eee78be9",
   "metadata": {},
   "outputs": [
    {
     "data": {
      "text/plain": [
       "0.9208984865099434"
      ]
     },
     "execution_count": 78,
     "metadata": {},
     "output_type": "execute_result"
    }
   ],
   "source": [
    "# Adjusted R2 score = 1 - [(1-R2)*(n-1)/(n-k-1)]\n",
    "\n",
    "1 - (1-r2score)*(len(y_test)-1)/(len(y_test)-X_test.shape[1]-1)"
   ]
  },
  {
   "cell_type": "code",
   "execution_count": 79,
   "id": "8ac3bf04",
   "metadata": {
    "scrolled": false
   },
   "outputs": [
    {
     "data": {
      "text/html": [
       "<div>\n",
       "<style scoped>\n",
       "    .dataframe tbody tr th:only-of-type {\n",
       "        vertical-align: middle;\n",
       "    }\n",
       "\n",
       "    .dataframe tbody tr th {\n",
       "        vertical-align: top;\n",
       "    }\n",
       "\n",
       "    .dataframe thead th {\n",
       "        text-align: right;\n",
       "    }\n",
       "</style>\n",
       "<table border=\"1\" class=\"dataframe\">\n",
       "  <thead>\n",
       "    <tr style=\"text-align: right;\">\n",
       "      <th></th>\n",
       "      <th>Additive Catalyst (gm)</th>\n",
       "      <th>Ash Component (gm)</th>\n",
       "      <th>Water Mix (ml)</th>\n",
       "      <th>Plasticizer (gm)</th>\n",
       "      <th>Formulation Duration (hrs)</th>\n",
       "      <th>Compression Strength MPa</th>\n",
       "    </tr>\n",
       "  </thead>\n",
       "  <tbody>\n",
       "    <tr>\n",
       "      <th>0</th>\n",
       "      <td>0.076266</td>\n",
       "      <td>-1.185002</td>\n",
       "      <td>201.66</td>\n",
       "      <td>0.017638</td>\n",
       "      <td>1.330671</td>\n",
       "      <td>79.89</td>\n",
       "    </tr>\n",
       "    <tr>\n",
       "      <th>1</th>\n",
       "      <td>0.567247</td>\n",
       "      <td>0.940023</td>\n",
       "      <td>175.99</td>\n",
       "      <td>-0.912828</td>\n",
       "      <td>-1.517225</td>\n",
       "      <td>59.80</td>\n",
       "    </tr>\n",
       "    <tr>\n",
       "      <th>2</th>\n",
       "      <td>-1.797172</td>\n",
       "      <td>0.164717</td>\n",
       "      <td>295.23</td>\n",
       "      <td>-0.340220</td>\n",
       "      <td>0.660953</td>\n",
       "      <td>77.86</td>\n",
       "    </tr>\n",
       "  </tbody>\n",
       "</table>\n",
       "</div>"
      ],
      "text/plain": [
       "   Additive Catalyst (gm)  Ash Component (gm)  Water Mix (ml)  \\\n",
       "0                0.076266           -1.185002          201.66   \n",
       "1                0.567247            0.940023          175.99   \n",
       "2               -1.797172            0.164717          295.23   \n",
       "\n",
       "   Plasticizer (gm)  Formulation Duration (hrs)  Compression Strength MPa  \n",
       "0          0.017638                    1.330671                     79.89  \n",
       "1         -0.912828                   -1.517225                     59.80  \n",
       "2         -0.340220                    0.660953                     77.86  "
      ]
     },
     "execution_count": 79,
     "metadata": {},
     "output_type": "execute_result"
    }
   ],
   "source": [
    "df.head(3)"
   ]
  },
  {
   "cell_type": "markdown",
   "id": "d7a5ebb9",
   "metadata": {},
   "source": [
    "### Make predictions on the new data"
   ]
  },
  {
   "cell_type": "code",
   "execution_count": 80,
   "id": "e570ad6f",
   "metadata": {},
   "outputs": [
    {
     "name": "stdout",
     "output_type": "stream",
     "text": [
      "Predicted 'Compression Strength (MPa)':  [24.15279958]\n"
     ]
    },
    {
     "name": "stderr",
     "output_type": "stream",
     "text": [
      "C:\\Users\\singhm\\AppData\\Local\\anaconda3\\lib\\site-packages\\sklearn\\base.py:420: UserWarning: X does not have valid feature names, but StandardScaler was fitted with feature names\n",
      "  warnings.warn(\n"
     ]
    }
   ],
   "source": [
    "new_data = df.iloc[1:2,:-1].values\n",
    "scaled_data = scaler.transform(new_data) # transformation needed\n",
    "\n",
    "new_predictions = RFR_model.predict(scaled_data)\n",
    "\n",
    "print(\"Predicted 'Compression Strength (MPa)': \", new_predictions)\n"
   ]
  },
  {
   "cell_type": "markdown",
   "id": "f98ab9fb",
   "metadata": {},
   "source": [
    "## Pickling the Model File for Deployment"
   ]
  },
  {
   "cell_type": "code",
   "execution_count": 81,
   "id": "b8c9f81c",
   "metadata": {},
   "outputs": [],
   "source": [
    "pickle.dump(RFR_model, open('regmodel.pkl', 'wb'))"
   ]
  },
  {
   "cell_type": "code",
   "execution_count": 82,
   "id": "be78ed73",
   "metadata": {},
   "outputs": [],
   "source": [
    "pickle_model = pickle.load(open('regmodel.pkl', 'rb'))"
   ]
  },
  {
   "cell_type": "code",
   "execution_count": 83,
   "id": "0319631a",
   "metadata": {},
   "outputs": [
    {
     "data": {
      "text/plain": [
       "array([24.15279958])"
      ]
     },
     "execution_count": 83,
     "metadata": {},
     "output_type": "execute_result"
    }
   ],
   "source": [
    "pickle_model.predict(scaled_data)"
   ]
  },
  {
   "cell_type": "code",
   "execution_count": null,
   "id": "940b8818",
   "metadata": {},
   "outputs": [],
   "source": []
  },
  {
   "cell_type": "code",
   "execution_count": null,
   "id": "55221e57",
   "metadata": {},
   "outputs": [],
   "source": []
  },
  {
   "cell_type": "code",
   "execution_count": null,
   "id": "8cbb6174",
   "metadata": {},
   "outputs": [],
   "source": []
  }
 ],
 "metadata": {
  "kernelspec": {
   "display_name": "Python 3 (ipykernel)",
   "language": "python",
   "name": "python3"
  },
  "language_info": {
   "codemirror_mode": {
    "name": "ipython",
    "version": 3
   },
   "file_extension": ".py",
   "mimetype": "text/x-python",
   "name": "python",
   "nbconvert_exporter": "python",
   "pygments_lexer": "ipython3",
   "version": "3.10.9"
  }
 },
 "nbformat": 4,
 "nbformat_minor": 5
}
